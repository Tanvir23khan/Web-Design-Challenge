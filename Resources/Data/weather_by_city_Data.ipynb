{
 "cells": [
  {
   "cell_type": "code",
   "execution_count": 2,
   "metadata": {},
   "outputs": [],
   "source": [
    "\n",
    "import pandas as pd\n",
    "import numpy as np\n",
    "import requests\n",
    "import csv\n",
    "import os\n",
    "from os import path\n",
    "from pprint import pprint\n",
    "from datetime import datetime, timedelta\n",
    "from pandas import DataFrame"
   ]
  },
  {
   "cell_type": "code",
   "execution_count": 3,
   "metadata": {},
   "outputs": [
    {
     "output_type": "execute_result",
     "data": {
      "text/plain": "            City  Cloudiness Country        Date  Humidity  Latitude  \\\n0  Novo Aripuanã          28      BR  1589680438        94     -5.12   \n1         Barrow          90      US  1589680439        79     71.29   \n2        Aksarka         100      RU  1589680439        95     66.56   \n3       Paignton          20      GB  1589680439         8     50.44   \n4     Walvis Bay           0     NaN  1589680439        71    -22.96   \n\n   Longitude  Temperature  Wind Speed  \n0     -60.38        74.98        1.01  \n1    -156.79        26.60        9.17  \n2      67.80        34.18        4.21  \n3      -3.57        48.00        1.99  \n4      14.51        57.20        3.36  ",
      "text/html": "<div>\n<style scoped>\n    .dataframe tbody tr th:only-of-type {\n        vertical-align: middle;\n    }\n\n    .dataframe tbody tr th {\n        vertical-align: top;\n    }\n\n    .dataframe thead th {\n        text-align: right;\n    }\n</style>\n<table border=\"1\" class=\"dataframe\">\n  <thead>\n    <tr style=\"text-align: right;\">\n      <th></th>\n      <th>City</th>\n      <th>Cloudiness</th>\n      <th>Country</th>\n      <th>Date</th>\n      <th>Humidity</th>\n      <th>Latitude</th>\n      <th>Longitude</th>\n      <th>Temperature</th>\n      <th>Wind Speed</th>\n    </tr>\n  </thead>\n  <tbody>\n    <tr>\n      <th>0</th>\n      <td>Novo Aripuanã</td>\n      <td>28</td>\n      <td>BR</td>\n      <td>1589680438</td>\n      <td>94</td>\n      <td>-5.12</td>\n      <td>-60.38</td>\n      <td>74.98</td>\n      <td>1.01</td>\n    </tr>\n    <tr>\n      <th>1</th>\n      <td>Barrow</td>\n      <td>90</td>\n      <td>US</td>\n      <td>1589680439</td>\n      <td>79</td>\n      <td>71.29</td>\n      <td>-156.79</td>\n      <td>26.60</td>\n      <td>9.17</td>\n    </tr>\n    <tr>\n      <th>2</th>\n      <td>Aksarka</td>\n      <td>100</td>\n      <td>RU</td>\n      <td>1589680439</td>\n      <td>95</td>\n      <td>66.56</td>\n      <td>67.80</td>\n      <td>34.18</td>\n      <td>4.21</td>\n    </tr>\n    <tr>\n      <th>3</th>\n      <td>Paignton</td>\n      <td>20</td>\n      <td>GB</td>\n      <td>1589680439</td>\n      <td>8</td>\n      <td>50.44</td>\n      <td>-3.57</td>\n      <td>48.00</td>\n      <td>1.99</td>\n    </tr>\n    <tr>\n      <th>4</th>\n      <td>Walvis Bay</td>\n      <td>0</td>\n      <td>NaN</td>\n      <td>1589680439</td>\n      <td>71</td>\n      <td>-22.96</td>\n      <td>14.51</td>\n      <td>57.20</td>\n      <td>3.36</td>\n    </tr>\n  </tbody>\n</table>\n</div>"
     },
     "metadata": {},
     "execution_count": 3
    }
   ],
   "source": [
    "# Cities files to load\n",
    "\n",
    "cities_data_path = os.path.join(\"weather_by_city.csv\")\n",
    "\n",
    "\n",
    "# Read the cities data and the study results\n",
    "cities_df = pd.read_csv(cities_data_path)\n",
    "\n",
    "\n",
    "# Combine the data into a single dataset\n",
    "\n",
    "cities_df = pd.DataFrame(cities_df)\n",
    "cities_df.head()\n"
   ]
  },
  {
   "cell_type": "code",
   "execution_count": 4,
   "metadata": {},
   "outputs": [
    {
     "output_type": "execute_result",
     "data": {
      "text/plain": "569"
     },
     "metadata": {},
     "execution_count": 4
    }
   ],
   "source": [
    "cities_df['City'].nunique()"
   ]
  },
  {
   "cell_type": "code",
   "execution_count": 5,
   "metadata": {},
   "outputs": [],
   "source": [
    "clean_df = cities_df.drop_duplicates(subset='City')"
   ]
  },
  {
   "cell_type": "code",
   "execution_count": 6,
   "metadata": {},
   "outputs": [
    {
     "output_type": "execute_result",
     "data": {
      "text/plain": "569"
     },
     "metadata": {},
     "execution_count": 6
    }
   ],
   "source": [
    "clean_df['City'].count()"
   ]
  },
  {
   "cell_type": "code",
   "execution_count": 7,
   "metadata": {},
   "outputs": [
    {
     "output_type": "execute_result",
     "data": {
      "text/plain": "Index(['City', 'Cloudiness', 'Country', 'Date', 'Humidity', 'Latitude',\n       'Longitude', 'Temperature', 'Wind Speed'],\n      dtype='object')"
     },
     "metadata": {},
     "execution_count": 7
    }
   ],
   "source": [
    "cities_data_df = clean_df.reset_index(drop=True)\n",
    "cities_data_df.columns"
   ]
  },
  {
   "cell_type": "code",
   "execution_count": 8,
   "metadata": {},
   "outputs": [
    {
     "output_type": "execute_result",
     "data": {
      "text/plain": "                         City  Cloudiness Country        Date  Humidity  \\\n0               Novo Aripuanã          28      BR  1589680438        94   \n1                      Barrow          90      US  1589680439        79   \n2                     Aksarka         100      RU  1589680439        95   \n3                    Paignton          20      GB  1589680439         8   \n4                  Walvis Bay           0     NaN  1589680439        71   \n..                        ...         ...     ...         ...       ...   \n564                Tarko-Sale          94      RU  1589680590        85   \n565                  Portland          90      US  1589680501        72   \n566  São Gabriel da Cachoeira          56      BR  1589680592        97   \n567               Ulaanbaatar          20      MN  1589680531        39   \n568              Port Lincoln           2      AU  1589680592        47   \n\n     Latitude  Longitude  Temperature  Wind Speed  \n0       -5.12     -60.38        74.98        1.01  \n1       71.29    -156.79        26.60        9.17  \n2       66.56      67.80        34.18        4.21  \n3       50.44      -3.57        48.00        1.99  \n4      -22.96      14.51        57.20        3.36  \n..        ...        ...          ...         ...  \n564     64.92      77.78        48.99       11.77  \n565     45.52    -122.68        64.40        8.86  \n566     -0.13     -67.09        74.28        1.66  \n567     47.91     106.88        44.60       20.13  \n568    -34.73     135.87        61.68        7.31  \n\n[569 rows x 9 columns]",
      "text/html": "<div>\n<style scoped>\n    .dataframe tbody tr th:only-of-type {\n        vertical-align: middle;\n    }\n\n    .dataframe tbody tr th {\n        vertical-align: top;\n    }\n\n    .dataframe thead th {\n        text-align: right;\n    }\n</style>\n<table border=\"1\" class=\"dataframe\">\n  <thead>\n    <tr style=\"text-align: right;\">\n      <th></th>\n      <th>City</th>\n      <th>Cloudiness</th>\n      <th>Country</th>\n      <th>Date</th>\n      <th>Humidity</th>\n      <th>Latitude</th>\n      <th>Longitude</th>\n      <th>Temperature</th>\n      <th>Wind Speed</th>\n    </tr>\n  </thead>\n  <tbody>\n    <tr>\n      <th>0</th>\n      <td>Novo Aripuanã</td>\n      <td>28</td>\n      <td>BR</td>\n      <td>1589680438</td>\n      <td>94</td>\n      <td>-5.12</td>\n      <td>-60.38</td>\n      <td>74.98</td>\n      <td>1.01</td>\n    </tr>\n    <tr>\n      <th>1</th>\n      <td>Barrow</td>\n      <td>90</td>\n      <td>US</td>\n      <td>1589680439</td>\n      <td>79</td>\n      <td>71.29</td>\n      <td>-156.79</td>\n      <td>26.60</td>\n      <td>9.17</td>\n    </tr>\n    <tr>\n      <th>2</th>\n      <td>Aksarka</td>\n      <td>100</td>\n      <td>RU</td>\n      <td>1589680439</td>\n      <td>95</td>\n      <td>66.56</td>\n      <td>67.80</td>\n      <td>34.18</td>\n      <td>4.21</td>\n    </tr>\n    <tr>\n      <th>3</th>\n      <td>Paignton</td>\n      <td>20</td>\n      <td>GB</td>\n      <td>1589680439</td>\n      <td>8</td>\n      <td>50.44</td>\n      <td>-3.57</td>\n      <td>48.00</td>\n      <td>1.99</td>\n    </tr>\n    <tr>\n      <th>4</th>\n      <td>Walvis Bay</td>\n      <td>0</td>\n      <td>NaN</td>\n      <td>1589680439</td>\n      <td>71</td>\n      <td>-22.96</td>\n      <td>14.51</td>\n      <td>57.20</td>\n      <td>3.36</td>\n    </tr>\n    <tr>\n      <th>...</th>\n      <td>...</td>\n      <td>...</td>\n      <td>...</td>\n      <td>...</td>\n      <td>...</td>\n      <td>...</td>\n      <td>...</td>\n      <td>...</td>\n      <td>...</td>\n    </tr>\n    <tr>\n      <th>564</th>\n      <td>Tarko-Sale</td>\n      <td>94</td>\n      <td>RU</td>\n      <td>1589680590</td>\n      <td>85</td>\n      <td>64.92</td>\n      <td>77.78</td>\n      <td>48.99</td>\n      <td>11.77</td>\n    </tr>\n    <tr>\n      <th>565</th>\n      <td>Portland</td>\n      <td>90</td>\n      <td>US</td>\n      <td>1589680501</td>\n      <td>72</td>\n      <td>45.52</td>\n      <td>-122.68</td>\n      <td>64.40</td>\n      <td>8.86</td>\n    </tr>\n    <tr>\n      <th>566</th>\n      <td>São Gabriel da Cachoeira</td>\n      <td>56</td>\n      <td>BR</td>\n      <td>1589680592</td>\n      <td>97</td>\n      <td>-0.13</td>\n      <td>-67.09</td>\n      <td>74.28</td>\n      <td>1.66</td>\n    </tr>\n    <tr>\n      <th>567</th>\n      <td>Ulaanbaatar</td>\n      <td>20</td>\n      <td>MN</td>\n      <td>1589680531</td>\n      <td>39</td>\n      <td>47.91</td>\n      <td>106.88</td>\n      <td>44.60</td>\n      <td>20.13</td>\n    </tr>\n    <tr>\n      <th>568</th>\n      <td>Port Lincoln</td>\n      <td>2</td>\n      <td>AU</td>\n      <td>1589680592</td>\n      <td>47</td>\n      <td>-34.73</td>\n      <td>135.87</td>\n      <td>61.68</td>\n      <td>7.31</td>\n    </tr>\n  </tbody>\n</table>\n<p>569 rows × 9 columns</p>\n</div>"
     },
     "metadata": {},
     "execution_count": 8
    }
   ],
   "source": [
    "# cities_data_df=cities_data_df.drop(['City_ID'], axis=1)\n",
    "cities_data_df"
   ]
  },
  {
   "cell_type": "code",
   "execution_count": 9,
   "metadata": {},
   "outputs": [
    {
     "output_type": "execute_result",
     "data": {
      "text/plain": "                         City  Cloudiness Country        Date  Humidity  \\\n0               Novo Aripuanã          28      BR  1589680438        94   \n1                      Barrow          90      US  1589680439        79   \n2                     Aksarka         100      RU  1589680439        95   \n3                    Paignton          20      GB  1589680439         8   \n4                  Walvis Bay           0     NaN  1589680439        71   \n..                        ...         ...     ...         ...       ...   \n564                Tarko-Sale          94      RU  1589680590        85   \n565                  Portland          90      US  1589680501        72   \n566  São Gabriel da Cachoeira          56      BR  1589680592        97   \n567               Ulaanbaatar          20      MN  1589680531        39   \n568              Port Lincoln           2      AU  1589680592        47   \n\n     Latitude  Longitude  Temperature  Wind Speed  \n0       -5.12     -60.38        74.98        1.01  \n1       71.29    -156.79        26.60        9.17  \n2       66.56      67.80        34.18        4.21  \n3       50.44      -3.57        48.00        1.99  \n4      -22.96      14.51        57.20        3.36  \n..        ...        ...          ...         ...  \n564     64.92      77.78        48.99       11.77  \n565     45.52    -122.68        64.40        8.86  \n566     -0.13     -67.09        74.28        1.66  \n567     47.91     106.88        44.60       20.13  \n568    -34.73     135.87        61.68        7.31  \n\n[569 rows x 9 columns]",
      "text/html": "<div>\n<style scoped>\n    .dataframe tbody tr th:only-of-type {\n        vertical-align: middle;\n    }\n\n    .dataframe tbody tr th {\n        vertical-align: top;\n    }\n\n    .dataframe thead th {\n        text-align: right;\n    }\n</style>\n<table border=\"1\" class=\"dataframe\">\n  <thead>\n    <tr style=\"text-align: right;\">\n      <th></th>\n      <th>City</th>\n      <th>Cloudiness</th>\n      <th>Country</th>\n      <th>Date</th>\n      <th>Humidity</th>\n      <th>Latitude</th>\n      <th>Longitude</th>\n      <th>Temperature</th>\n      <th>Wind Speed</th>\n    </tr>\n  </thead>\n  <tbody>\n    <tr>\n      <th>0</th>\n      <td>Novo Aripuanã</td>\n      <td>28</td>\n      <td>BR</td>\n      <td>1589680438</td>\n      <td>94</td>\n      <td>-5.12</td>\n      <td>-60.38</td>\n      <td>74.98</td>\n      <td>1.01</td>\n    </tr>\n    <tr>\n      <th>1</th>\n      <td>Barrow</td>\n      <td>90</td>\n      <td>US</td>\n      <td>1589680439</td>\n      <td>79</td>\n      <td>71.29</td>\n      <td>-156.79</td>\n      <td>26.60</td>\n      <td>9.17</td>\n    </tr>\n    <tr>\n      <th>2</th>\n      <td>Aksarka</td>\n      <td>100</td>\n      <td>RU</td>\n      <td>1589680439</td>\n      <td>95</td>\n      <td>66.56</td>\n      <td>67.80</td>\n      <td>34.18</td>\n      <td>4.21</td>\n    </tr>\n    <tr>\n      <th>3</th>\n      <td>Paignton</td>\n      <td>20</td>\n      <td>GB</td>\n      <td>1589680439</td>\n      <td>8</td>\n      <td>50.44</td>\n      <td>-3.57</td>\n      <td>48.00</td>\n      <td>1.99</td>\n    </tr>\n    <tr>\n      <th>4</th>\n      <td>Walvis Bay</td>\n      <td>0</td>\n      <td>NaN</td>\n      <td>1589680439</td>\n      <td>71</td>\n      <td>-22.96</td>\n      <td>14.51</td>\n      <td>57.20</td>\n      <td>3.36</td>\n    </tr>\n    <tr>\n      <th>...</th>\n      <td>...</td>\n      <td>...</td>\n      <td>...</td>\n      <td>...</td>\n      <td>...</td>\n      <td>...</td>\n      <td>...</td>\n      <td>...</td>\n      <td>...</td>\n    </tr>\n    <tr>\n      <th>564</th>\n      <td>Tarko-Sale</td>\n      <td>94</td>\n      <td>RU</td>\n      <td>1589680590</td>\n      <td>85</td>\n      <td>64.92</td>\n      <td>77.78</td>\n      <td>48.99</td>\n      <td>11.77</td>\n    </tr>\n    <tr>\n      <th>565</th>\n      <td>Portland</td>\n      <td>90</td>\n      <td>US</td>\n      <td>1589680501</td>\n      <td>72</td>\n      <td>45.52</td>\n      <td>-122.68</td>\n      <td>64.40</td>\n      <td>8.86</td>\n    </tr>\n    <tr>\n      <th>566</th>\n      <td>São Gabriel da Cachoeira</td>\n      <td>56</td>\n      <td>BR</td>\n      <td>1589680592</td>\n      <td>97</td>\n      <td>-0.13</td>\n      <td>-67.09</td>\n      <td>74.28</td>\n      <td>1.66</td>\n    </tr>\n    <tr>\n      <th>567</th>\n      <td>Ulaanbaatar</td>\n      <td>20</td>\n      <td>MN</td>\n      <td>1589680531</td>\n      <td>39</td>\n      <td>47.91</td>\n      <td>106.88</td>\n      <td>44.60</td>\n      <td>20.13</td>\n    </tr>\n    <tr>\n      <th>568</th>\n      <td>Port Lincoln</td>\n      <td>2</td>\n      <td>AU</td>\n      <td>1589680592</td>\n      <td>47</td>\n      <td>-34.73</td>\n      <td>135.87</td>\n      <td>61.68</td>\n      <td>7.31</td>\n    </tr>\n  </tbody>\n</table>\n<p>569 rows × 9 columns</p>\n</div>"
     },
     "metadata": {},
     "execution_count": 9
    }
   ],
   "source": [
    "cities_data_df"
   ]
  },
  {
   "cell_type": "code",
   "execution_count": 10,
   "metadata": {},
   "outputs": [
    {
     "output_type": "execute_result",
     "data": {
      "text/plain": "                         City  Cloudiness Country                Date  \\\n0               Novo Aripuanã          28      BR 2020-05-17 01:53:58   \n1                      Barrow          90      US 2020-05-17 01:53:59   \n2                     Aksarka         100      RU 2020-05-17 01:53:59   \n3                    Paignton          20      GB 2020-05-17 01:53:59   \n4                  Walvis Bay           0     NaN 2020-05-17 01:53:59   \n..                        ...         ...     ...                 ...   \n564                Tarko-Sale          94      RU 2020-05-17 01:56:30   \n565                  Portland          90      US 2020-05-17 01:55:01   \n566  São Gabriel da Cachoeira          56      BR 2020-05-17 01:56:32   \n567               Ulaanbaatar          20      MN 2020-05-17 01:55:31   \n568              Port Lincoln           2      AU 2020-05-17 01:56:32   \n\n     Humidity  Latitude  Longitude  Temperature  Wind Speed  \n0          94     -5.12     -60.38        74.98        1.01  \n1          79     71.29    -156.79        26.60        9.17  \n2          95     66.56      67.80        34.18        4.21  \n3           8     50.44      -3.57        48.00        1.99  \n4          71    -22.96      14.51        57.20        3.36  \n..        ...       ...        ...          ...         ...  \n564        85     64.92      77.78        48.99       11.77  \n565        72     45.52    -122.68        64.40        8.86  \n566        97     -0.13     -67.09        74.28        1.66  \n567        39     47.91     106.88        44.60       20.13  \n568        47    -34.73     135.87        61.68        7.31  \n\n[569 rows x 9 columns]",
      "text/html": "<div>\n<style scoped>\n    .dataframe tbody tr th:only-of-type {\n        vertical-align: middle;\n    }\n\n    .dataframe tbody tr th {\n        vertical-align: top;\n    }\n\n    .dataframe thead th {\n        text-align: right;\n    }\n</style>\n<table border=\"1\" class=\"dataframe\">\n  <thead>\n    <tr style=\"text-align: right;\">\n      <th></th>\n      <th>City</th>\n      <th>Cloudiness</th>\n      <th>Country</th>\n      <th>Date</th>\n      <th>Humidity</th>\n      <th>Latitude</th>\n      <th>Longitude</th>\n      <th>Temperature</th>\n      <th>Wind Speed</th>\n    </tr>\n  </thead>\n  <tbody>\n    <tr>\n      <th>0</th>\n      <td>Novo Aripuanã</td>\n      <td>28</td>\n      <td>BR</td>\n      <td>2020-05-17 01:53:58</td>\n      <td>94</td>\n      <td>-5.12</td>\n      <td>-60.38</td>\n      <td>74.98</td>\n      <td>1.01</td>\n    </tr>\n    <tr>\n      <th>1</th>\n      <td>Barrow</td>\n      <td>90</td>\n      <td>US</td>\n      <td>2020-05-17 01:53:59</td>\n      <td>79</td>\n      <td>71.29</td>\n      <td>-156.79</td>\n      <td>26.60</td>\n      <td>9.17</td>\n    </tr>\n    <tr>\n      <th>2</th>\n      <td>Aksarka</td>\n      <td>100</td>\n      <td>RU</td>\n      <td>2020-05-17 01:53:59</td>\n      <td>95</td>\n      <td>66.56</td>\n      <td>67.80</td>\n      <td>34.18</td>\n      <td>4.21</td>\n    </tr>\n    <tr>\n      <th>3</th>\n      <td>Paignton</td>\n      <td>20</td>\n      <td>GB</td>\n      <td>2020-05-17 01:53:59</td>\n      <td>8</td>\n      <td>50.44</td>\n      <td>-3.57</td>\n      <td>48.00</td>\n      <td>1.99</td>\n    </tr>\n    <tr>\n      <th>4</th>\n      <td>Walvis Bay</td>\n      <td>0</td>\n      <td>NaN</td>\n      <td>2020-05-17 01:53:59</td>\n      <td>71</td>\n      <td>-22.96</td>\n      <td>14.51</td>\n      <td>57.20</td>\n      <td>3.36</td>\n    </tr>\n    <tr>\n      <th>...</th>\n      <td>...</td>\n      <td>...</td>\n      <td>...</td>\n      <td>...</td>\n      <td>...</td>\n      <td>...</td>\n      <td>...</td>\n      <td>...</td>\n      <td>...</td>\n    </tr>\n    <tr>\n      <th>564</th>\n      <td>Tarko-Sale</td>\n      <td>94</td>\n      <td>RU</td>\n      <td>2020-05-17 01:56:30</td>\n      <td>85</td>\n      <td>64.92</td>\n      <td>77.78</td>\n      <td>48.99</td>\n      <td>11.77</td>\n    </tr>\n    <tr>\n      <th>565</th>\n      <td>Portland</td>\n      <td>90</td>\n      <td>US</td>\n      <td>2020-05-17 01:55:01</td>\n      <td>72</td>\n      <td>45.52</td>\n      <td>-122.68</td>\n      <td>64.40</td>\n      <td>8.86</td>\n    </tr>\n    <tr>\n      <th>566</th>\n      <td>São Gabriel da Cachoeira</td>\n      <td>56</td>\n      <td>BR</td>\n      <td>2020-05-17 01:56:32</td>\n      <td>97</td>\n      <td>-0.13</td>\n      <td>-67.09</td>\n      <td>74.28</td>\n      <td>1.66</td>\n    </tr>\n    <tr>\n      <th>567</th>\n      <td>Ulaanbaatar</td>\n      <td>20</td>\n      <td>MN</td>\n      <td>2020-05-17 01:55:31</td>\n      <td>39</td>\n      <td>47.91</td>\n      <td>106.88</td>\n      <td>44.60</td>\n      <td>20.13</td>\n    </tr>\n    <tr>\n      <th>568</th>\n      <td>Port Lincoln</td>\n      <td>2</td>\n      <td>AU</td>\n      <td>2020-05-17 01:56:32</td>\n      <td>47</td>\n      <td>-34.73</td>\n      <td>135.87</td>\n      <td>61.68</td>\n      <td>7.31</td>\n    </tr>\n  </tbody>\n</table>\n<p>569 rows × 9 columns</p>\n</div>"
     },
     "metadata": {},
     "execution_count": 10
    }
   ],
   "source": [
    "cities_data_df['Date'] =  pd.to_datetime(cities_data_df['Date'], unit='s')\n",
    "cities_data_df\n",
    "#2019-09-25 16:01:38  # UNIX STYLE DATE"
   ]
  },
  {
   "cell_type": "code",
   "execution_count": 11,
   "metadata": {},
   "outputs": [],
   "source": [
    "cities_data_df.to_html('weather_by_city_data.html')"
   ]
  },
  {
   "cell_type": "code",
   "execution_count": null,
   "metadata": {},
   "outputs": [],
   "source": []
  }
 ],
 "metadata": {
  "kernelspec": {
   "display_name": "Python 3.7.6 64-bit ('PythonData': conda)",
   "language": "python",
   "name": "python37664bitpythondataconda0c1286a3fcdd408db6265824ecd00cc3"
  },
  "language_info": {
   "codemirror_mode": {
    "name": "ipython",
    "version": 3
   },
   "file_extension": ".py",
   "mimetype": "text/x-python",
   "name": "python",
   "nbconvert_exporter": "python",
   "pygments_lexer": "ipython3",
   "version": "3.7.6-final"
  }
 },
 "nbformat": 4,
 "nbformat_minor": 4
}